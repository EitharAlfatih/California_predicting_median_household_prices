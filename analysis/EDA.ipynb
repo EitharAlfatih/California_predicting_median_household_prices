{
 "cells": [
  {
   "cell_type": "code",
   "execution_count": 10,
   "metadata": {},
   "outputs": [
    {
     "data": {
      "text/plain": [
       "DataTransformerRegistry.enable('default')"
      ]
     },
     "execution_count": 10,
     "metadata": {},
     "output_type": "execute_result"
    }
   ],
   "source": [
    "# Imports\n",
    "import numpy as np\n",
    "import pandas as pd\n",
    "import altair as alt\n",
    "from sklearn.model_selection import train_test_split\n",
    "import statsmodels.api as sm\n",
    "from statsmodels.stats.outliers_influence import variance_inflation_factor\n",
    "\n",
    "# Allow Altair to make plots using more than 5000 rows\n",
    "alt.data_transformers.disable_max_rows()"
   ]
  },
  {
   "cell_type": "markdown",
   "metadata": {},
   "source": [
    "### Step 1: Describe the Dataset"
   ]
  },
  {
   "cell_type": "markdown",
   "metadata": {},
   "source": [
    "This dataset first emerged in 1997 in a paper titled Sparse Spatial Autoregressions. It was collected by Pace, R. Kelley and Ronald Barry. Each row in the dataset contains details for a single block group in California. The data collected contains information about the houses for each block group and also details about the population in the city. The data was collected in 1990."
   ]
  },
  {
   "cell_type": "markdown",
   "metadata": {},
   "source": [
    "### Step 2: Load the Dataset"
   ]
  },
  {
   "cell_type": "code",
   "execution_count": 11,
   "metadata": {},
   "outputs": [],
   "source": [
    "data = pd.read_csv('https://github.com/ageron/handson-ml/blob/master/datasets/housing/housing.csv?raw=true')"
   ]
  },
  {
   "cell_type": "markdown",
   "metadata": {},
   "source": [
    "### Step 5: Wrangling (do this earlier to split training and testing data)"
   ]
  },
  {
   "cell_type": "code",
   "execution_count": 12,
   "metadata": {},
   "outputs": [],
   "source": [
    "# drop rows with NA values\n",
    "data = data.dropna()\n",
    "\n",
    "# change median_income to tens of thousands of dollars\n",
    "data['median_income'] = data['median_income']*10000\n",
    "\n",
    "# move median_house_value to last column for formatting\n",
    "columns = ['housing_median_age', 'total_rooms', 'total_bedrooms', 'population',\n",
    "           'households', 'median_income', 'ocean_proximity', 'latitude', 'longitude']\n",
    "X = data[columns]\n",
    "y = data['median_house_value']\n",
    "\n",
    "# Sources:\n",
    "# https://stackoverflow.com/questions/13148429/how-to-change-the-order-of-dataframe-columns"
   ]
  },
  {
   "cell_type": "code",
   "execution_count": 13,
   "metadata": {},
   "outputs": [],
   "source": [
    "# Split the dataset into train and test\n",
    "X_train, X_test, y_train, y_test = train_test_split(X, y, test_size=0.2, random_state=522)"
   ]
  },
  {
   "cell_type": "markdown",
   "metadata": {},
   "source": [
    "### Step 3: Explore the Dataset"
   ]
  },
  {
   "cell_type": "code",
   "execution_count": 14,
   "metadata": {},
   "outputs": [
    {
     "data": {
      "text/html": [
       "<div>\n",
       "<style scoped>\n",
       "    .dataframe tbody tr th:only-of-type {\n",
       "        vertical-align: middle;\n",
       "    }\n",
       "\n",
       "    .dataframe tbody tr th {\n",
       "        vertical-align: top;\n",
       "    }\n",
       "\n",
       "    .dataframe thead th {\n",
       "        text-align: right;\n",
       "    }\n",
       "</style>\n",
       "<table border=\"1\" class=\"dataframe\">\n",
       "  <thead>\n",
       "    <tr style=\"text-align: right;\">\n",
       "      <th></th>\n",
       "      <th>housing_median_age</th>\n",
       "      <th>total_rooms</th>\n",
       "      <th>total_bedrooms</th>\n",
       "      <th>population</th>\n",
       "      <th>households</th>\n",
       "      <th>median_income</th>\n",
       "      <th>ocean_proximity</th>\n",
       "      <th>latitude</th>\n",
       "      <th>longitude</th>\n",
       "    </tr>\n",
       "  </thead>\n",
       "  <tbody>\n",
       "    <tr>\n",
       "      <th>count</th>\n",
       "      <td>16346.000000</td>\n",
       "      <td>16346.000000</td>\n",
       "      <td>16346.000000</td>\n",
       "      <td>16346.000000</td>\n",
       "      <td>16346.000000</td>\n",
       "      <td>16346.000000</td>\n",
       "      <td>16346</td>\n",
       "      <td>16346.000000</td>\n",
       "      <td>16346.000000</td>\n",
       "    </tr>\n",
       "    <tr>\n",
       "      <th>unique</th>\n",
       "      <td>NaN</td>\n",
       "      <td>NaN</td>\n",
       "      <td>NaN</td>\n",
       "      <td>NaN</td>\n",
       "      <td>NaN</td>\n",
       "      <td>NaN</td>\n",
       "      <td>5</td>\n",
       "      <td>NaN</td>\n",
       "      <td>NaN</td>\n",
       "    </tr>\n",
       "    <tr>\n",
       "      <th>top</th>\n",
       "      <td>NaN</td>\n",
       "      <td>NaN</td>\n",
       "      <td>NaN</td>\n",
       "      <td>NaN</td>\n",
       "      <td>NaN</td>\n",
       "      <td>NaN</td>\n",
       "      <td>&lt;1H OCEAN</td>\n",
       "      <td>NaN</td>\n",
       "      <td>NaN</td>\n",
       "    </tr>\n",
       "    <tr>\n",
       "      <th>freq</th>\n",
       "      <td>NaN</td>\n",
       "      <td>NaN</td>\n",
       "      <td>NaN</td>\n",
       "      <td>NaN</td>\n",
       "      <td>NaN</td>\n",
       "      <td>NaN</td>\n",
       "      <td>7253</td>\n",
       "      <td>NaN</td>\n",
       "      <td>NaN</td>\n",
       "    </tr>\n",
       "    <tr>\n",
       "      <th>mean</th>\n",
       "      <td>28.583996</td>\n",
       "      <td>2632.665423</td>\n",
       "      <td>537.742322</td>\n",
       "      <td>1424.456320</td>\n",
       "      <td>499.394837</td>\n",
       "      <td>38714.445124</td>\n",
       "      <td>NaN</td>\n",
       "      <td>35.636460</td>\n",
       "      <td>-119.573700</td>\n",
       "    </tr>\n",
       "    <tr>\n",
       "      <th>std</th>\n",
       "      <td>12.586127</td>\n",
       "      <td>2178.944651</td>\n",
       "      <td>422.926265</td>\n",
       "      <td>1140.457445</td>\n",
       "      <td>382.832734</td>\n",
       "      <td>18944.357707</td>\n",
       "      <td>NaN</td>\n",
       "      <td>2.137114</td>\n",
       "      <td>2.004533</td>\n",
       "    </tr>\n",
       "    <tr>\n",
       "      <th>min</th>\n",
       "      <td>1.000000</td>\n",
       "      <td>2.000000</td>\n",
       "      <td>2.000000</td>\n",
       "      <td>3.000000</td>\n",
       "      <td>2.000000</td>\n",
       "      <td>4999.000000</td>\n",
       "      <td>NaN</td>\n",
       "      <td>32.540000</td>\n",
       "      <td>-124.300000</td>\n",
       "    </tr>\n",
       "    <tr>\n",
       "      <th>25%</th>\n",
       "      <td>18.000000</td>\n",
       "      <td>1454.000000</td>\n",
       "      <td>297.000000</td>\n",
       "      <td>792.000000</td>\n",
       "      <td>281.000000</td>\n",
       "      <td>25663.000000</td>\n",
       "      <td>NaN</td>\n",
       "      <td>33.930000</td>\n",
       "      <td>-121.800000</td>\n",
       "    </tr>\n",
       "    <tr>\n",
       "      <th>50%</th>\n",
       "      <td>29.000000</td>\n",
       "      <td>2127.000000</td>\n",
       "      <td>435.000000</td>\n",
       "      <td>1164.000000</td>\n",
       "      <td>410.000000</td>\n",
       "      <td>35348.000000</td>\n",
       "      <td>NaN</td>\n",
       "      <td>34.260000</td>\n",
       "      <td>-118.500000</td>\n",
       "    </tr>\n",
       "    <tr>\n",
       "      <th>75%</th>\n",
       "      <td>37.000000</td>\n",
       "      <td>3137.000000</td>\n",
       "      <td>644.000000</td>\n",
       "      <td>1720.000000</td>\n",
       "      <td>602.000000</td>\n",
       "      <td>47471.000000</td>\n",
       "      <td>NaN</td>\n",
       "      <td>37.710000</td>\n",
       "      <td>-118.010000</td>\n",
       "    </tr>\n",
       "    <tr>\n",
       "      <th>max</th>\n",
       "      <td>52.000000</td>\n",
       "      <td>39320.000000</td>\n",
       "      <td>6445.000000</td>\n",
       "      <td>35682.000000</td>\n",
       "      <td>6082.000000</td>\n",
       "      <td>150001.000000</td>\n",
       "      <td>NaN</td>\n",
       "      <td>41.950000</td>\n",
       "      <td>-114.310000</td>\n",
       "    </tr>\n",
       "  </tbody>\n",
       "</table>\n",
       "</div>"
      ],
      "text/plain": [
       "        housing_median_age   total_rooms  total_bedrooms    population  \\\n",
       "count         16346.000000  16346.000000    16346.000000  16346.000000   \n",
       "unique                 NaN           NaN             NaN           NaN   \n",
       "top                    NaN           NaN             NaN           NaN   \n",
       "freq                   NaN           NaN             NaN           NaN   \n",
       "mean             28.583996   2632.665423      537.742322   1424.456320   \n",
       "std              12.586127   2178.944651      422.926265   1140.457445   \n",
       "min               1.000000      2.000000        2.000000      3.000000   \n",
       "25%              18.000000   1454.000000      297.000000    792.000000   \n",
       "50%              29.000000   2127.000000      435.000000   1164.000000   \n",
       "75%              37.000000   3137.000000      644.000000   1720.000000   \n",
       "max              52.000000  39320.000000     6445.000000  35682.000000   \n",
       "\n",
       "          households  median_income ocean_proximity      latitude  \\\n",
       "count   16346.000000   16346.000000           16346  16346.000000   \n",
       "unique           NaN            NaN               5           NaN   \n",
       "top              NaN            NaN       <1H OCEAN           NaN   \n",
       "freq             NaN            NaN            7253           NaN   \n",
       "mean      499.394837   38714.445124             NaN     35.636460   \n",
       "std       382.832734   18944.357707             NaN      2.137114   \n",
       "min         2.000000    4999.000000             NaN     32.540000   \n",
       "25%       281.000000   25663.000000             NaN     33.930000   \n",
       "50%       410.000000   35348.000000             NaN     34.260000   \n",
       "75%       602.000000   47471.000000             NaN     37.710000   \n",
       "max      6082.000000  150001.000000             NaN     41.950000   \n",
       "\n",
       "           longitude  \n",
       "count   16346.000000  \n",
       "unique           NaN  \n",
       "top              NaN  \n",
       "freq             NaN  \n",
       "mean     -119.573700  \n",
       "std         2.004533  \n",
       "min      -124.300000  \n",
       "25%      -121.800000  \n",
       "50%      -118.500000  \n",
       "75%      -118.010000  \n",
       "max      -114.310000  "
      ]
     },
     "execution_count": 14,
     "metadata": {},
     "output_type": "execute_result"
    }
   ],
   "source": [
    "X_train.describe(include='all')"
   ]
  },
  {
   "cell_type": "code",
   "execution_count": 15,
   "metadata": {},
   "outputs": [
    {
     "name": "stdout",
     "output_type": "stream",
     "text": [
      "There are 16346 records in the training portion of the dataset. Each record is a census block group.\n",
      "\n",
      "The median age of houses/complexes in census blocks ranges from 1.0 to 52.0 with a mean of 28.58 years old and a median of 29.0 years old.\n",
      "\n",
      "The total number of rooms in a census block ranges from 2.0 to 39320.0 with a mean of 2632.67 rooms and a median of 2127.0 rooms.\n",
      "\n",
      "The number of bedrooms in a census block ranges from 2.0 to 6445.0 with a mean of 537.74 bedrooms and a median of 435.0 bedrooms.\n",
      "\n",
      "The population of a census block ranges from 3.0 to 35682.0 with a mean of 1424.46 and a median of 1164.0.\n",
      "\n",
      "The number of households in a census block ranges from 2.0 to 6082.0 with a mean of 499.39 and a median of 409.0.\n",
      "\n",
      "The median annual income in a census block ranges from $4999.0 to $150001.0 with a mean of $38714.45 and a median of $35348.0.\n",
      "\n",
      "Ocean Proximity is a categorical value with one of the values:\n",
      "\t<1h ocean, \n",
      "\tinland (very close to the ocean), \n",
      "\tnear ocean, \n",
      "\tnear bay, \n",
      "\tisland.\n",
      "\n",
      "The median house value in a census block ranges from $14999.0 to $500001.0 with a mean of $206609.32 and a median of $179500.0.\n",
      "\n"
     ]
    }
   ],
   "source": [
    "\n",
    "print(\"There are {0} records in the training portion of the dataset. Each record is a census block group.\\n\".format(\n",
    "    X_train.count().min()))\n",
    "\n",
    "print(\"The median age of houses/complexes in census blocks ranges from {0} to {1} with a mean of {2} years old and a median of {3} years old.\\n\".format(\n",
    "    X_train['housing_median_age'].min(),\n",
    "    X_train['housing_median_age'].max(),\n",
    "    round(X_train['housing_median_age'].mean(), 2),\n",
    "    X_train['housing_median_age'].median()))\n",
    "\n",
    "print(\"The total number of rooms in a census block ranges from {0} to {1} with a mean of {2} rooms and a median of {3} rooms.\\n\".format(\n",
    "    X_train['total_rooms'].min(),\n",
    "    X_train['total_rooms'].max(),\n",
    "    round(X_train['total_rooms'].mean(), 2),\n",
    "    X_train['total_rooms'].median()))\n",
    "\n",
    "print(\"The number of bedrooms in a census block ranges from {0} to {1} with a mean of {2} bedrooms and a median of {3} bedrooms.\\n\".format(\n",
    "    X_train['total_bedrooms'].min(),\n",
    "    X_train['total_bedrooms'].max(),\n",
    "    round(X_train['total_bedrooms'].mean(), 2),\n",
    "    X_train['total_bedrooms'].median()))\n",
    "\n",
    "print(\"The population of a census block ranges from {0} to {1} with a mean of {2} and a median of {3}.\\n\".format(\n",
    "    X_train['population'].min(),\n",
    "    X_train['population'].max(),\n",
    "    round(X_train['population'].mean(), 2),\n",
    "    X_train['population'].median()))\n",
    "\n",
    "print(\"The number of households in a census block ranges from {0} to {1} with a mean of {2} and a median of {3}.\\n\".format(\n",
    "    X_train['households'].min(),\n",
    "    X_train['households'].max(),\n",
    "    round(X_train['households'].mean(), 2),\n",
    "    data['households'].median()))\n",
    "\n",
    "print(\"The median annual income in a census block ranges from ${0} to ${1} with a mean of ${2} and a median of ${3}.\\n\".format(\n",
    "    X_train['median_income'].min(),\n",
    "    X_train['median_income'].max(),\n",
    "    round(X_train['median_income'].mean(), 2),\n",
    "    X_train['median_income'].median()))\n",
    "\n",
    "print(\"Ocean Proximity is a categorical value with one of the values:\\n\\t{0}, \\n\\t{1} (very close to the ocean), \\n\\t{2}, \\n\\t{3}, \\n\\t{4}.\\n\".format(\n",
    "    X_train['ocean_proximity'].unique()[0].lower(),\n",
    "    X_train['ocean_proximity'].unique()[1].lower(),\n",
    "    X_train['ocean_proximity'].unique()[2].lower(),\n",
    "    X_train['ocean_proximity'].unique()[3].lower(),\n",
    "    X_train['ocean_proximity'].unique()[4].lower()))\n",
    "\n",
    "print(\"The median house value in a census block ranges from ${0} to ${1} with a mean of ${2} and a median of ${3}.\\n\".format(\n",
    "    y_train.min(),\n",
    "    y_train.max(),\n",
    "    round(y_train.mean(), 2),\n",
    "    y_train.median()))"
   ]
  },
  {
   "cell_type": "markdown",
   "metadata": {},
   "source": [
    "### Step 4: Initial Thoughts"
   ]
  },
  {
   "cell_type": "markdown",
   "metadata": {},
   "source": [
    "- Blocks vary drastically in the number of bedrooms and total number of rooms.\n",
    "- Lowest median income blocks differ in the number of households (some highly populated blocks have very low income).\n",
    "- New houses vary in their value (interesting to study the relationship between age and value).\n",
    "- 7 out of the 10 lowest-value houses are INLAND. (proximity to ocean appears to heavily influence value)."
   ]
  },
  {
   "cell_type": "markdown",
   "metadata": {},
   "source": [
    "### Step 6: Research Questions"
   ]
  },
  {
   "cell_type": "markdown",
   "metadata": {},
   "source": [
    "Our research questions will focus on prediction factors for the median house value. Aurélien Geron completed an analysis and determined that the most effective method for estimating median house value given the features in the dataset is through linear regression. We are aiming to improve on his process and analysis by tuning hyperparameters."
   ]
  },
  {
   "cell_type": "markdown",
   "metadata": {},
   "source": [
    "### Step 7: Data Analysis and Visualizations"
   ]
  },
  {
   "cell_type": "markdown",
   "metadata": {},
   "source": [
    "The following are scatterplots that model various explanatory variables against the median house value, which is the dependent variable in our project.\n",
    "\n",
    "![Image](median-age_scatterplot.png)\n",
    "![Image](median-income_scatterplot.png)\n",
    "![Image](population_scatterplot.png)\n",
    "![Image](households_scatterplot.png)\n",
    "![Image](total-rooms_scatterplot.png)\n",
    "![Image](total-bedrooms_scatterplot.png)"
   ]
  },
  {
   "cell_type": "markdown",
   "metadata": {},
   "source": [
    "The plot below models total rooms and total bedrooms, and the table below shows variance inflation factors for variables.\n",
    "\n",
    "![Image](total-rooms_total-bedrooms.png)"
   ]
  },
  {
   "cell_type": "code",
   "execution_count": 19,
   "metadata": {},
   "outputs": [],
   "source": [
    "# Find Variance Inflation Factor\n",
    "\n",
    "# drop ocean_proximity column for this\n",
    "mc_data = pd.DataFrame.drop(X_train, columns=['ocean_proximity', 'longitude', 'latitude'])\n",
    "mc_data['intercept'] = 1"
   ]
  },
  {
   "cell_type": "code",
   "execution_count": 20,
   "metadata": {},
   "outputs": [
    {
     "data": {
      "text/html": [
       "<div>\n",
       "<style scoped>\n",
       "    .dataframe tbody tr th:only-of-type {\n",
       "        vertical-align: middle;\n",
       "    }\n",
       "\n",
       "    .dataframe tbody tr th {\n",
       "        vertical-align: top;\n",
       "    }\n",
       "\n",
       "    .dataframe thead th {\n",
       "        text-align: right;\n",
       "    }\n",
       "</style>\n",
       "<table border=\"1\" class=\"dataframe\">\n",
       "  <thead>\n",
       "    <tr style=\"text-align: right;\">\n",
       "      <th></th>\n",
       "      <th>variable</th>\n",
       "      <th>vif_val</th>\n",
       "    </tr>\n",
       "  </thead>\n",
       "  <tbody>\n",
       "    <tr>\n",
       "      <th>0</th>\n",
       "      <td>housing_median_age</td>\n",
       "      <td>1.156932</td>\n",
       "    </tr>\n",
       "    <tr>\n",
       "      <th>1</th>\n",
       "      <td>total_rooms</td>\n",
       "      <td>12.031079</td>\n",
       "    </tr>\n",
       "    <tr>\n",
       "      <th>2</th>\n",
       "      <td>total_bedrooms</td>\n",
       "      <td>35.449294</td>\n",
       "    </tr>\n",
       "    <tr>\n",
       "      <th>3</th>\n",
       "      <td>population</td>\n",
       "      <td>5.974685</td>\n",
       "    </tr>\n",
       "    <tr>\n",
       "      <th>4</th>\n",
       "      <td>households</td>\n",
       "      <td>33.344099</td>\n",
       "    </tr>\n",
       "    <tr>\n",
       "      <th>5</th>\n",
       "      <td>median_income</td>\n",
       "      <td>1.513296</td>\n",
       "    </tr>\n",
       "    <tr>\n",
       "      <th>6</th>\n",
       "      <td>intercept</td>\n",
       "      <td>17.750549</td>\n",
       "    </tr>\n",
       "  </tbody>\n",
       "</table>\n",
       "</div>"
      ],
      "text/plain": [
       "             variable    vif_val\n",
       "0  housing_median_age   1.156932\n",
       "1         total_rooms  12.031079\n",
       "2      total_bedrooms  35.449294\n",
       "3          population   5.974685\n",
       "4          households  33.344099\n",
       "5       median_income   1.513296\n",
       "6           intercept  17.750549"
      ]
     },
     "execution_count": 20,
     "metadata": {},
     "output_type": "execute_result"
    }
   ],
   "source": [
    "\n",
    "# Initialize a dataframe to store Variance Inflation Factors in\n",
    "mc_data.shape[1]\n",
    "vif = pd.DataFrame()\n",
    "vif['variable'] = mc_data.columns\n",
    "vif['vif_val'] = [variance_inflation_factor(mc_data.values, i) for i in range(mc_data.shape[1])]\n",
    "vif\n",
    "\n",
    "# Sources:\n",
    "# https://campus.datacamp.com/courses/generalized-linear-models-in-python/multivariable-logistic-regression?ex=4"
   ]
  },
  {
   "cell_type": "markdown",
   "metadata": {},
   "source": [
    "We will find and plot the correlation matrix to view correlation figures between all variables(X and y)."
   ]
  },
  {
   "cell_type": "code",
   "execution_count": 22,
   "metadata": {},
   "outputs": [],
   "source": [
    "# Finding the correlation matrix\n",
    "viz_data = pd.merge(X_train, y_train, left_index=True, right_index=True)\n",
    "corrMatrix = viz_data.corr()\n",
    "corrMatrix['names'] = corrMatrix.columns\n",
    "corrMatrix = corrMatrix.melt(id_vars = 'names', value_vars = corrMatrix['names'])"
   ]
  },
  {
   "cell_type": "code",
   "execution_count": 24,
   "metadata": {},
   "outputs": [
    {
     "data": {
      "application/vnd.vegalite.v3+json": {
       "$schema": "https://vega.github.io/schema/vega-lite/v3.4.0.json",
       "config": {
        "mark": {
         "tooltip": null
        },
        "view": {
         "height": 300,
         "width": 400
        }
       },
       "data": {
        "name": "data-36d7937cf0e399510b40da064bb1ad09"
       },
       "datasets": {
        "data-36d7937cf0e399510b40da064bb1ad09": [
         {
          "names": "housing_median_age",
          "value": 1,
          "variable": "housing_median_age"
         },
         {
          "names": "total_rooms",
          "value": -0.35518701885633847,
          "variable": "housing_median_age"
         },
         {
          "names": "total_bedrooms",
          "value": -0.31414033248393497,
          "variable": "housing_median_age"
         },
         {
          "names": "population",
          "value": -0.2894141371238,
          "variable": "housing_median_age"
         },
         {
          "names": "households",
          "value": -0.29679441740809326,
          "variable": "housing_median_age"
         },
         {
          "names": "median_income",
          "value": -0.11546888002067114,
          "variable": "housing_median_age"
         },
         {
          "names": "latitude",
          "value": 0.011652057087685045,
          "variable": "housing_median_age"
         },
         {
          "names": "longitude",
          "value": -0.10992200571341694,
          "variable": "housing_median_age"
         },
         {
          "names": "median_house_value",
          "value": 0.11375685898083131,
          "variable": "housing_median_age"
         },
         {
          "names": "housing_median_age",
          "value": -0.35518701885633847,
          "variable": "total_rooms"
         },
         {
          "names": "total_rooms",
          "value": 1,
          "variable": "total_rooms"
         },
         {
          "names": "total_bedrooms",
          "value": 0.931047356017897,
          "variable": "total_rooms"
         },
         {
          "names": "population",
          "value": 0.853782677197035,
          "variable": "total_rooms"
         },
         {
          "names": "households",
          "value": 0.9194105766951134,
          "variable": "total_rooms"
         },
         {
          "names": "median_income",
          "value": 0.19511718363279537,
          "variable": "total_rooms"
         },
         {
          "names": "latitude",
          "value": -0.037865648378430594,
          "variable": "total_rooms"
         },
         {
          "names": "longitude",
          "value": 0.04615643460834901,
          "variable": "total_rooms"
         },
         {
          "names": "median_house_value",
          "value": 0.13143277180632526,
          "variable": "total_rooms"
         },
         {
          "names": "housing_median_age",
          "value": -0.31414033248393497,
          "variable": "total_bedrooms"
         },
         {
          "names": "total_rooms",
          "value": 0.931047356017897,
          "variable": "total_bedrooms"
         },
         {
          "names": "total_bedrooms",
          "value": 1,
          "variable": "total_bedrooms"
         },
         {
          "names": "population",
          "value": 0.8728806496263953,
          "variable": "total_bedrooms"
         },
         {
          "names": "households",
          "value": 0.9795411368348449,
          "variable": "total_bedrooms"
         },
         {
          "names": "median_income",
          "value": -0.009886564525952898,
          "variable": "total_bedrooms"
         },
         {
          "names": "latitude",
          "value": -0.06848796720003628,
          "variable": "total_bedrooms"
         },
         {
          "names": "longitude",
          "value": 0.07127737067281806,
          "variable": "total_bedrooms"
         },
         {
          "names": "median_house_value",
          "value": 0.04801289845341836,
          "variable": "total_bedrooms"
         },
         {
          "names": "housing_median_age",
          "value": -0.2894141371238,
          "variable": "population"
         },
         {
          "names": "total_rooms",
          "value": 0.853782677197035,
          "variable": "population"
         },
         {
          "names": "total_bedrooms",
          "value": 0.8728806496263953,
          "variable": "population"
         },
         {
          "names": "population",
          "value": 1,
          "variable": "population"
         },
         {
          "names": "households",
          "value": 0.9030329818526699,
          "variable": "population"
         },
         {
          "names": "median_income",
          "value": 0.003304267193259153,
          "variable": "population"
         },
         {
          "names": "latitude",
          "value": -0.10748800211691449,
          "variable": "population"
         },
         {
          "names": "longitude",
          "value": 0.09852996723007462,
          "variable": "population"
         },
         {
          "names": "median_house_value",
          "value": -0.02684893024211081,
          "variable": "population"
         },
         {
          "names": "housing_median_age",
          "value": -0.29679441740809326,
          "variable": "households"
         },
         {
          "names": "total_rooms",
          "value": 0.9194105766951134,
          "variable": "households"
         },
         {
          "names": "total_bedrooms",
          "value": 0.9795411368348449,
          "variable": "households"
         },
         {
          "names": "population",
          "value": 0.9030329818526699,
          "variable": "households"
         },
         {
          "names": "households",
          "value": 1,
          "variable": "households"
         },
         {
          "names": "median_income",
          "value": 0.011264429615126892,
          "variable": "households"
         },
         {
          "names": "latitude",
          "value": -0.07281031548402234,
          "variable": "households"
         },
         {
          "names": "longitude",
          "value": 0.057721507382872135,
          "variable": "households"
         },
         {
          "names": "median_house_value",
          "value": 0.06421548619844193,
          "variable": "households"
         },
         {
          "names": "housing_median_age",
          "value": -0.11546888002067114,
          "variable": "median_income"
         },
         {
          "names": "total_rooms",
          "value": 0.19511718363279537,
          "variable": "median_income"
         },
         {
          "names": "total_bedrooms",
          "value": -0.009886564525952898,
          "variable": "median_income"
         },
         {
          "names": "population",
          "value": 0.003304267193259153,
          "variable": "median_income"
         },
         {
          "names": "households",
          "value": 0.011264429615126892,
          "variable": "median_income"
         },
         {
          "names": "median_income",
          "value": 1,
          "variable": "median_income"
         },
         {
          "names": "latitude",
          "value": -0.07900007221262995,
          "variable": "median_income"
         },
         {
          "names": "longitude",
          "value": -0.01697639538475258,
          "variable": "median_income"
         },
         {
          "names": "median_house_value",
          "value": 0.6886367776606223,
          "variable": "median_income"
         },
         {
          "names": "housing_median_age",
          "value": 0.011652057087685045,
          "variable": "latitude"
         },
         {
          "names": "total_rooms",
          "value": -0.037865648378430594,
          "variable": "latitude"
         },
         {
          "names": "total_bedrooms",
          "value": -0.06848796720003628,
          "variable": "latitude"
         },
         {
          "names": "population",
          "value": -0.10748800211691449,
          "variable": "latitude"
         },
         {
          "names": "households",
          "value": -0.07281031548402234,
          "variable": "latitude"
         },
         {
          "names": "median_income",
          "value": -0.07900007221262995,
          "variable": "latitude"
         },
         {
          "names": "latitude",
          "value": 1,
          "variable": "latitude"
         },
         {
          "names": "longitude",
          "value": -0.9245724956411097,
          "variable": "latitude"
         },
         {
          "names": "median_house_value",
          "value": -0.14360906129284415,
          "variable": "latitude"
         },
         {
          "names": "housing_median_age",
          "value": -0.10992200571341694,
          "variable": "longitude"
         },
         {
          "names": "total_rooms",
          "value": 0.04615643460834901,
          "variable": "longitude"
         },
         {
          "names": "total_bedrooms",
          "value": 0.07127737067281806,
          "variable": "longitude"
         },
         {
          "names": "population",
          "value": 0.09852996723007462,
          "variable": "longitude"
         },
         {
          "names": "households",
          "value": 0.057721507382872135,
          "variable": "longitude"
         },
         {
          "names": "median_income",
          "value": -0.01697639538475258,
          "variable": "longitude"
         },
         {
          "names": "latitude",
          "value": -0.9245724956411097,
          "variable": "longitude"
         },
         {
          "names": "longitude",
          "value": 1,
          "variable": "longitude"
         },
         {
          "names": "median_house_value",
          "value": -0.046658363111535976,
          "variable": "longitude"
         },
         {
          "names": "housing_median_age",
          "value": 0.11375685898083131,
          "variable": "median_house_value"
         },
         {
          "names": "total_rooms",
          "value": 0.13143277180632526,
          "variable": "median_house_value"
         },
         {
          "names": "total_bedrooms",
          "value": 0.04801289845341836,
          "variable": "median_house_value"
         },
         {
          "names": "population",
          "value": -0.02684893024211081,
          "variable": "median_house_value"
         },
         {
          "names": "households",
          "value": 0.06421548619844193,
          "variable": "median_house_value"
         },
         {
          "names": "median_income",
          "value": 0.6886367776606223,
          "variable": "median_house_value"
         },
         {
          "names": "latitude",
          "value": -0.14360906129284415,
          "variable": "median_house_value"
         },
         {
          "names": "longitude",
          "value": -0.046658363111535976,
          "variable": "median_house_value"
         },
         {
          "names": "median_house_value",
          "value": 1,
          "variable": "median_house_value"
         }
        ]
       },
       "encoding": {
        "color": {
         "field": "value",
         "title": "Correlation Value",
         "type": "quantitative"
        },
        "x": {
         "field": "names",
         "title": null,
         "type": "ordinal"
        },
        "y": {
         "field": "variable",
         "title": null,
         "type": "ordinal"
        }
       },
       "height": 300,
       "mark": "rect",
       "title": "Correlation Heatmap",
       "width": 400
      },
      "image/png": "[encoded data removed]",
      "text/plain": [
       "<VegaLite 3 object>\n",
       "\n",
       "If you see this message, it means the renderer has not been properly enabled\n",
       "for the frontend that you are using. For more information, see\n",
       "https://altair-viz.github.io/user_guide/troubleshooting.html\n"
      ]
     },
     "execution_count": 24,
     "metadata": {},
     "output_type": "execute_result"
    }
   ],
   "source": [
    "alt.Chart(corrMatrix).mark_rect().encode(\n",
    "    x = alt.X('names:O', title = None),\n",
    "    y = alt.Y('variable:O', title = None),\n",
    "    color= alt.Color('value:Q', title = 'Correlation Value')\n",
    ").properties(width = 400, height = 300, title = \"Correlation Heatmap\")"
   ]
  },
  {
   "cell_type": "markdown",
   "metadata": {},
   "source": [
    "### Step 8: Summary and Conclusions"
   ]
  },
  {
   "cell_type": "markdown",
   "metadata": {},
   "source": [
    "The census blocks vary widely and "
   ]
  }
 ],
 "metadata": {
  "kernelspec": {
   "display_name": "Python 3",
   "language": "python",
   "name": "python3"
  },
  "language_info": {
   "codemirror_mode": {
    "name": "ipython",
    "version": 3
   },
   "file_extension": ".py",
   "mimetype": "text/x-python",
   "name": "python",
   "nbconvert_exporter": "python",
   "pygments_lexer": "ipython3",
   "version": "3.7.3"
  }
 },
 "nbformat": 4,
 "nbformat_minor": 4
}
